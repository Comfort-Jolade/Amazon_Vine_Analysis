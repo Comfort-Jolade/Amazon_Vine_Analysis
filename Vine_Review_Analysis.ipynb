{
  "nbformat": 4,
  "nbformat_minor": 0,
  "metadata": {
    "colab": {
      "provenance": [],
      "collapsed_sections": []
    },
    "kernelspec": {
      "name": "python3",
      "display_name": "Python 3"
    },
    "language_info": {
      "name": "python"
    }
  },
  "cells": [
    {
      "cell_type": "code",
      "execution_count": 31,
      "metadata": {
        "colab": {
          "base_uri": "https://localhost:8080/"
        },
        "id": "rbEinqauxHua",
        "outputId": "48d94685-2593-4d4e-f510-f0804f3fd153"
      },
      "outputs": [
        {
          "output_type": "stream",
          "name": "stdout",
          "text": [
            "Get:1 http://security.ubuntu.com/ubuntu bionic-security InRelease [88.7 kB]\n",
            "Hit:2 https://cloud.r-project.org/bin/linux/ubuntu bionic-cran40/ InRelease\n",
            "Hit:3 http://archive.ubuntu.com/ubuntu bionic InRelease\n",
            "Hit:4 http://ppa.launchpad.net/c2d4u.team/c2d4u4.0+/ubuntu bionic InRelease\n",
            "Get:5 http://archive.ubuntu.com/ubuntu bionic-updates InRelease [88.7 kB]\n",
            "Ign:6 https://developer.download.nvidia.com/compute/machine-learning/repos/ubuntu1804/x86_64  InRelease\n",
            "Hit:7 https://developer.download.nvidia.com/compute/cuda/repos/ubuntu1804/x86_64  InRelease\n",
            "Hit:8 https://developer.download.nvidia.com/compute/machine-learning/repos/ubuntu1804/x86_64  Release\n",
            "Hit:9 http://ppa.launchpad.net/cran/libgit2/ubuntu bionic InRelease\n",
            "Hit:10 http://ppa.launchpad.net/deadsnakes/ppa/ubuntu bionic InRelease\n",
            "Get:11 http://archive.ubuntu.com/ubuntu bionic-backports InRelease [74.6 kB]\n",
            "Get:12 http://security.ubuntu.com/ubuntu bionic-security/main amd64 Packages [2,953 kB]\n",
            "Hit:13 http://ppa.launchpad.net/graphics-drivers/ppa/ubuntu bionic InRelease\n",
            "Get:15 http://archive.ubuntu.com/ubuntu bionic-updates/main amd64 Packages [3,390 kB]\n",
            "Fetched 6,594 kB in 3s (2,227 kB/s)\n",
            "Reading package lists... Done\n"
          ]
        }
      ],
      "source": [
        "import os\n",
        "# Find the latest version of spark 3.0 from http://www.apache.org/dist/spark/ and enter as the spark version\n",
        "# For example:\n",
        "# spark_version = 'spark-3.1.3'\n",
        "spark_version = 'spark-3.1.3'\n",
        "os.environ['SPARK_VERSION']=spark_version\n",
        "\n",
        "# Install Spark and Java\n",
        "!apt-get update\n",
        "!apt-get install openjdk-11-jdk-headless -qq > /dev/null\n",
        "!wget -q http://www.apache.org/dist/spark/$SPARK_VERSION/$SPARK_VERSION-bin-hadoop2.7.tgz\n",
        "!tar xf $SPARK_VERSION-bin-hadoop2.7.tgz\n",
        "!pip install -q findspark\n",
        "\n",
        "# Set Environment Variables\n",
        "import os\n",
        "os.environ[\"JAVA_HOME\"] = \"/usr/lib/jvm/java-11-openjdk-amd64\"\n",
        "os.environ[\"SPARK_HOME\"] = f\"/content/{spark_version}-bin-hadoop2.7\"\n",
        "\n",
        "# Start a SparkSession\n",
        "import findspark\n",
        "findspark.init()"
      ]
    },
    {
      "cell_type": "code",
      "source": [
        "# Download the Postgres driver that will allow Spark to interact with Postgres.\n",
        "!wget https://jdbc.postgresql.org/download/postgresql-42.2.16.jar"
      ],
      "metadata": {
        "colab": {
          "base_uri": "https://localhost:8080/"
        },
        "id": "PT2eM-QjyI_W",
        "outputId": "c644cbab-7d53-40d7-cb7e-d253858f17f0"
      },
      "execution_count": 32,
      "outputs": [
        {
          "output_type": "stream",
          "name": "stdout",
          "text": [
            "--2022-09-01 22:42:57--  https://jdbc.postgresql.org/download/postgresql-42.2.16.jar\n",
            "Resolving jdbc.postgresql.org (jdbc.postgresql.org)... 72.32.157.228, 2001:4800:3e1:1::228\n",
            "Connecting to jdbc.postgresql.org (jdbc.postgresql.org)|72.32.157.228|:443... connected.\n",
            "HTTP request sent, awaiting response... 200 OK\n",
            "Length: 1002883 (979K) [application/java-archive]\n",
            "Saving to: ‘postgresql-42.2.16.jar.1’\n",
            "\n",
            "postgresql-42.2.16. 100%[===================>] 979.38K  6.24MB/s    in 0.2s    \n",
            "\n",
            "2022-09-01 22:42:57 (6.24 MB/s) - ‘postgresql-42.2.16.jar.1’ saved [1002883/1002883]\n",
            "\n"
          ]
        }
      ]
    },
    {
      "cell_type": "code",
      "source": [
        "from pyspark.sql import SparkSession\n",
        "spark = SparkSession.builder.appName(\"M16-Amazon-Challenge\").config(\"spark.driver.extraClassPath\",\"/content/postgresql-42.2.16.jar\").getOrCreate()"
      ],
      "metadata": {
        "id": "RCUWAaNZyKF7"
      },
      "execution_count": 33,
      "outputs": []
    },
    {
      "cell_type": "code",
      "source": [
        "# Read in data from S3 Buckets\n",
        "from pyspark import SparkFiles\n",
        "url =\"https://s3.amazonaws.com/amazon-reviews-pds/tsv/amazon_reviews_us_Apparel_v1_00.tsv.gz\"\n",
        "spark.sparkContext.addFile(url)\n",
        "df = spark.read.csv(SparkFiles.get(\"amazon_reviews_us_Apparel_v1_00.tsv.gz\"), sep=\"\\t\", header=True)\n",
        "\n",
        "# Show DataFrame\n",
        "df.show()"
      ],
      "metadata": {
        "colab": {
          "base_uri": "https://localhost:8080/"
        },
        "id": "Z7FyneB1yPkO",
        "outputId": "44b00593-995f-4f4a-9e12-7c29acb272b6"
      },
      "execution_count": 34,
      "outputs": [
        {
          "output_type": "stream",
          "name": "stdout",
          "text": [
            "+-----------+-----------+--------------+----------+--------------+--------------------+----------------+-----------+-------------+-----------+----+-----------------+--------------------+--------------------+-----------+\n",
            "|marketplace|customer_id|     review_id|product_id|product_parent|       product_title|product_category|star_rating|helpful_votes|total_votes|vine|verified_purchase|     review_headline|         review_body|review_date|\n",
            "+-----------+-----------+--------------+----------+--------------+--------------------+----------------+-----------+-------------+-----------+----+-----------------+--------------------+--------------------+-----------+\n",
            "|         US|   32158956|R1KKOXHNI8MSXU|B01KL6O72Y|      24485154|Easy Tool Stainle...|         Apparel|          4|            0|          0|   N|                Y|★ THESE REALLY DO...|These Really Do W...| 2013-01-14|\n",
            "|         US|    2714559|R26SP2OPDK4HT7|B01ID3ZS5W|     363128556|V28 Women Cowl Ne...|         Apparel|          5|            1|          2|   N|                Y|Favorite for wint...|I love this dress...| 2014-03-04|\n",
            "|         US|   12608825| RWQEDYAX373I1|B01I497BGY|     811958549|James Fiallo Men'...|         Apparel|          5|            0|          0|   N|                Y|Great Socks for t...|Nice socks, great...| 2015-07-12|\n",
            "|         US|   25482800|R231YI7R4GPF6J|B01HDXFZK6|     692205728|Belfry Gangster 1...|         Apparel|          5|            0|          0|   N|                Y|          Slick hat!|I bought this for...| 2015-06-03|\n",
            "|         US|    9310286|R3KO3W45DD0L1K|B01G6MBEBY|     431150422|JAEDEN Women's Be...|         Apparel|          5|            0|          0|   N|                Y|I would do it again!|Perfect dress and...| 2015-06-12|\n",
            "|         US|   26631939|R1C4QH63NFL5NJ|B01FWRXN0Y|     366144407|Levi's Boys' 514 ...|         Apparel|          5|            0|          0|   N|                Y|          Five Stars|Excellent for my ...| 2014-04-22|\n",
            "|         US|   48785098|R2GP65O1U9N7BP|B01EXNH1HE|     786052021|Minimalist Wallet...|         Apparel|          5|            0|          0|   N|                Y|            Love it!|Raw is the only w...| 2015-07-28|\n",
            "|         US|   39548589|R3O29CT5MQQ3XQ|B01E7OL09O|     108920964|Harriton Men's Ba...|         Apparel|          4|            0|          0|   N|                Y|         Three Stars|        A bit large.| 2015-07-10|\n",
            "|         US|   29355866|R1ZECD2AA8QFF6|B01DXHX81O|     317132458|Jockey Women's Un...|         Apparel|          5|            0|          0|   N|                Y|          Five Stars|          Great fit!| 2015-08-09|\n",
            "|         US|   27477484|R2S79GCF6J89OA|B01DDULIJK|     110598191|Alexander Del Ros...|         Apparel|          3|            0|          0|   N|                Y|    Not my favorite.|Shirt a bit too l...| 2014-05-24|\n",
            "|         US|   17685865|R1CBCUGNP37MPK|B01BOKOL4A|     121408017|Jockey Women's Un...|         Apparel|          5|            0|          0|   N|                Y|The Jockey Women'...|The Jockey Women'...| 2015-06-10|\n",
            "|         US|   19787539|R3NU4WUR5ZNV1V|B01B3Q4Q0O|     134506082|Bali Passion For ...|         Apparel|          5|            0|          0|   N|                Y|          Five Stars|cup size is just ...| 2013-09-06|\n",
            "|         US|   44196725|R32EPCJ3XF8LGE|B01ADDSL9U|     747539045|Lilyette Women's ...|         Apparel|          5|            0|          0|   N|                Y|          Five Stars|          Perfect...| 2014-11-17|\n",
            "|         US|   45510794|R1XIBC6WQBW31M|B019P1X5XI|     696379847|Vanity Fair Women...|         Apparel|          5|            0|          0|   N|                Y|best ever4 for me...|best  ever4 for m...| 2013-05-12|\n",
            "|         US|   42025740|R1P11MVDZ65LMH|B019MDXIXG|     387286513|Warner's Women's ...|         Apparel|          5|            0|          0|   N|                Y|          Five Stars|          Great fit.| 2014-02-14|\n",
            "|         US|   27097189|R1OJA3DJL0VDDK|B019438FEG|     764190574|Columbia Women's ...|         Apparel|          5|            0|          0|   N|                Y|          Five Stars|I have this Colum...| 2014-10-20|\n",
            "|         US|   13808904|R1THWA5YRJLOOF|B0178HGNIA|     816266887|Robes King RK Cla...|         Apparel|          4|            0|          0|   N|                Y|          Four Stars|My husband found ...| 2015-07-05|\n",
            "|         US|   30225894| R738LCNRSJVXP|B016VIU0QI|     323924698|VIV Collection Be...|         Apparel|          5|            6|          7|   N|                Y|   Awesome leggings!|Awesome leggings!...| 2015-07-29|\n",
            "|         US|   45223824|R1N3Z13931J3O9|B016PUU3VO|     893588059|Fruit of the Loom...|         Apparel|          2|            0|          0|   N|                Y|Sizes not correct...|I ordered the sam...| 2015-01-01|\n",
            "|         US|   22300783|R1LBNTP7E8N89Z|B016AQNDM4|     917361125|Jockey Scrubs Wom...|         Apparel|          1|            0|          0|   N|                Y|            One Star| not exact in sizing| 2015-02-12|\n",
            "+-----------+-----------+--------------+----------+--------------+--------------------+----------------+-----------+-------------+-----------+----+-----------------+--------------------+--------------------+-----------+\n",
            "only showing top 20 rows\n",
            "\n"
          ]
        }
      ]
    },
    {
      "cell_type": "code",
      "source": [
        "# Using Filter to creates a table to retrieve all rows where tota votes count is equal or greater than to 20\n",
        "df_total_votes20 = df.filter(df[\"total_votes\"]>=20)"
      ],
      "metadata": {
        "id": "-D1wgyLpypS5"
      },
      "execution_count": 41,
      "outputs": []
    },
    {
      "cell_type": "code",
      "source": [
        "df_total_votes20.show()"
      ],
      "metadata": {
        "colab": {
          "base_uri": "https://localhost:8080/"
        },
        "id": "sT5yTCEdM_ki",
        "outputId": "51881bc6-5312-4033-e01b-2020a5edc71d"
      },
      "execution_count": 42,
      "outputs": [
        {
          "output_type": "stream",
          "name": "stdout",
          "text": [
            "+-----------+-----------+--------------+----------+--------------+--------------------+----------------+-----------+-------------+-----------+----+-----------------+--------------------+--------------------+-----------+\n",
            "|marketplace|customer_id|     review_id|product_id|product_parent|       product_title|product_category|star_rating|helpful_votes|total_votes|vine|verified_purchase|     review_headline|         review_body|review_date|\n",
            "+-----------+-----------+--------------+----------+--------------+--------------------+----------------+-----------+-------------+-----------+----+-----------------+--------------------+--------------------+-----------+\n",
            "|         US|   17162238|R35PT06NWP7LDP|B0140UFQKE|     555753462|Women Padded Spor...|         Apparel|          5|           30|         32|   N|                N|This is an extrem...|This is an extrem...| 2015-08-28|\n",
            "|         US|   26252807|R2P76PJFUGXBHO|B013S8HI5U|      22756004|Lovenest Men's- S...|         Apparel|          1|            6|         45|   N|                N|I pity anyone who...|If you're going t...| 2015-08-29|\n",
            "|         US|     453792| RQW4AFOG9MR4Z|B013QTWRAC|     254612789|UONBOX Celebrity ...|         Apparel|          5|           51|         52|   N|                N|          Five Stars|Wonderful dress!!...| 2015-08-14|\n",
            "|         US|    2089228|R2SMUEBMGLAJQK|B013P4QQVO|     791992572|Vikoros Waist Cin...|         Apparel|          5|           29|         36|   N|                Y|            Love it!|I got this a size...| 2015-08-30|\n",
            "|         US|     114396|R1XVIZZALU5P6J|B013P29CBM|     539979945|UONBOX Women's Ra...|         Apparel|          5|          148|        150|   N|                Y|Colors look like ...|Very heavy soft, ...| 2015-08-17|\n",
            "|         US|   51748675|R11UFMG8M2488I|B013OUQEUM|     640221350|Meaneor Women's O...|         Apparel|          4|           23|         26|   N|                N|Very beautiful fa...|This is a very pr...| 2015-08-29|\n",
            "|         US|   50038974|R2OSHKSPXU68W5|B013KVV1NA|     234785624|TOP LEGGING TL Wo...|         Apparel|          5|          136|        147|   N|                N|Cute hoodie made ...|I wear lots of sw...| 2015-08-30|\n",
            "|         US|   52045345|R3M02FSD3BLUPU|B013JM0NKM|     601070643|Bepei Women's Lon...|         Apparel|          5|           19|         21|   N|                N|Love this unique ...|[[VIDEOID:a4649ba...| 2015-08-20|\n",
            "|         US|   44724303|R1P0LEEJHH09L3|B013HLP2WO|     556490207|Yonala Women's Vi...|         Apparel|          5|           32|         32|   N|                Y| OMG OMG ITS PERFECT|Okay so i am so h...| 2015-08-19|\n",
            "|         US|   21646689|R1V6UU1EHW3Q12|B013H3RO00|      62032810|Geoffrey Beene Me...|         Apparel|          5|           57|         62|   N|                Y|Great hankerchief...|I sincerely adore...| 2015-08-22|\n",
            "|         US|   14885085|R230W87COFSTCL|B013FLBMOS|      34452015|Neon Nightlife Li...|         Apparel|          5|           21|         21|   N|                Y|AMAZING accessory...|This is an amazin...| 2015-08-26|\n",
            "|         US|   52607844|R156HBTMUSEM88|B013CIQ4II|     282819531|Hanes Women's Cot...|         Apparel|          5|           48|         49|   N|                Y|Great color and s...|When I first open...| 2015-08-31|\n",
            "|         US|   16016643|R2X1UHSW9KUBES|B013B5MS5A|     844184360|Sexy Couture Wome...|         Apparel|          5|           22|         22|   N|                Y|They are up there...|These jeans are a...| 2015-08-31|\n",
            "|         US|   48374199| RO32P11MHPMI3|B013AXN87U|     532055092|Miusol Women's Cu...|         Apparel|          5|           24|         24|   N|                Y|... is my second ...|This is my second...| 2015-08-18|\n",
            "|         US|    3567728|R2WN1VOTG9IK98|B01352ZWZW|     882085937|Nintendo Boys' Sp...|         Apparel|          1|            0|         22|   N|                Y|            One Star|              Awful.| 2015-08-18|\n",
            "|         US|    2704286|R1Y8ARYNAB7PC0|B0132KKSBK|      48905872|Waist Trainer, Az...|         Apparel|          5|           19|         20|   N|                N|          LOOOOOOOVE|Love love love!!!...| 2015-08-31|\n",
            "|         US|    3151543|R1QSB09EOREALQ|B013204F0U|     116670397|Cocoship Retro 50...|         Apparel|          4|           29|         32|   N|                Y|Quality Fabric, F...|This is a great b...| 2015-08-19|\n",
            "|         US|   37194231|R1BQ8BDCIV9ONZ|B0131K1MFM|     296184450|Bewild Brand® - M...|         Apparel|          5|           44|         50|   N|                Y|  Improves discourse|This hat speaks v...| 2015-08-25|\n",
            "|         US|    2203211|R18638HIUF6XNR|B0131D4ND2|     418011491|Genie Women's Jeg...|         Apparel|          3|           22|         23|   N|                N|do your research ...|there have been a...| 2015-08-04|\n",
            "|         US|   48759981|  R1EHNRX9BMLK|B0130LQN6K|     322914675|Underwraps Women'...|         Apparel|          5|           19|         20|   N|                Y|          Five Stars|LOVE LOVE LOVE th...| 2015-08-31|\n",
            "+-----------+-----------+--------------+----------+--------------+--------------------+----------------+-----------+-------------+-----------+----+-----------------+--------------------+--------------------+-----------+\n",
            "only showing top 20 rows\n",
            "\n"
          ]
        }
      ]
    },
    {
      "cell_type": "code",
      "source": [
        "df_total_votes20[\"total_votes\"]"
      ],
      "metadata": {
        "colab": {
          "base_uri": "https://localhost:8080/"
        },
        "id": "xVvlYtlfO6TB",
        "outputId": "efcbb984-bccd-45b5-c135-1647f7349ba7"
      },
      "execution_count": 48,
      "outputs": [
        {
          "output_type": "execute_result",
          "data": {
            "text/plain": [
              "Column<'total_votes'>"
            ]
          },
          "metadata": {},
          "execution_count": 48
        }
      ]
    },
    {
      "cell_type": "code",
      "source": [
        "df_total_votes20[\"helpful_votes\"]"
      ],
      "metadata": {
        "colab": {
          "base_uri": "https://localhost:8080/"
        },
        "id": "Rlsx59SHPnc7",
        "outputId": "1566bb45-dad9-4328-b333-18cf0ac11dae"
      },
      "execution_count": 49,
      "outputs": [
        {
          "output_type": "execute_result",
          "data": {
            "text/plain": [
              "Column<'helpful_votes'>"
            ]
          },
          "metadata": {},
          "execution_count": 49
        }
      ]
    },
    {
      "cell_type": "code",
      "source": [
        "df_total_votes20[\"helpful_votes\"] / df_total_votes20[\"total_votes\"]"
      ],
      "metadata": {
        "colab": {
          "base_uri": "https://localhost:8080/"
        },
        "id": "5IsHl4KiP2fR",
        "outputId": "5335779f-0dea-4308-d564-a887db9c43c5"
      },
      "execution_count": 50,
      "outputs": [
        {
          "output_type": "execute_result",
          "data": {
            "text/plain": [
              "Column<'(helpful_votes / total_votes)'>"
            ]
          },
          "metadata": {},
          "execution_count": 50
        }
      ]
    },
    {
      "cell_type": "code",
      "source": [
        "df_helpful_votes50 = df_total_votes20.filter(df_total_votes20[\"helpful_votes\"] / df_total_votes20[\"total_votes\"]>= 0.5)"
      ],
      "metadata": {
        "id": "Re4WPAvl9t54"
      },
      "execution_count": 61,
      "outputs": []
    },
    {
      "cell_type": "code",
      "source": [
        "df_helpful_votes50.show()"
      ],
      "metadata": {
        "colab": {
          "base_uri": "https://localhost:8080/"
        },
        "id": "RpK1V16PU7wX",
        "outputId": "b5381f49-2d45-4fb7-8ba4-253abbd80f3c"
      },
      "execution_count": 62,
      "outputs": [
        {
          "output_type": "stream",
          "name": "stdout",
          "text": [
            "+-----------+-----------+--------------+----------+--------------+--------------------+----------------+-----------+-------------+-----------+----+-----------------+--------------------+--------------------+-----------+\n",
            "|marketplace|customer_id|     review_id|product_id|product_parent|       product_title|product_category|star_rating|helpful_votes|total_votes|vine|verified_purchase|     review_headline|         review_body|review_date|\n",
            "+-----------+-----------+--------------+----------+--------------+--------------------+----------------+-----------+-------------+-----------+----+-----------------+--------------------+--------------------+-----------+\n",
            "|         US|   17162238|R35PT06NWP7LDP|B0140UFQKE|     555753462|Women Padded Spor...|         Apparel|          5|           30|         32|   N|                N|This is an extrem...|This is an extrem...| 2015-08-28|\n",
            "|         US|     453792| RQW4AFOG9MR4Z|B013QTWRAC|     254612789|UONBOX Celebrity ...|         Apparel|          5|           51|         52|   N|                N|          Five Stars|Wonderful dress!!...| 2015-08-14|\n",
            "|         US|    2089228|R2SMUEBMGLAJQK|B013P4QQVO|     791992572|Vikoros Waist Cin...|         Apparel|          5|           29|         36|   N|                Y|            Love it!|I got this a size...| 2015-08-30|\n",
            "|         US|     114396|R1XVIZZALU5P6J|B013P29CBM|     539979945|UONBOX Women's Ra...|         Apparel|          5|          148|        150|   N|                Y|Colors look like ...|Very heavy soft, ...| 2015-08-17|\n",
            "|         US|   51748675|R11UFMG8M2488I|B013OUQEUM|     640221350|Meaneor Women's O...|         Apparel|          4|           23|         26|   N|                N|Very beautiful fa...|This is a very pr...| 2015-08-29|\n",
            "|         US|   50038974|R2OSHKSPXU68W5|B013KVV1NA|     234785624|TOP LEGGING TL Wo...|         Apparel|          5|          136|        147|   N|                N|Cute hoodie made ...|I wear lots of sw...| 2015-08-30|\n",
            "|         US|   52045345|R3M02FSD3BLUPU|B013JM0NKM|     601070643|Bepei Women's Lon...|         Apparel|          5|           19|         21|   N|                N|Love this unique ...|[[VIDEOID:a4649ba...| 2015-08-20|\n",
            "|         US|   44724303|R1P0LEEJHH09L3|B013HLP2WO|     556490207|Yonala Women's Vi...|         Apparel|          5|           32|         32|   N|                Y| OMG OMG ITS PERFECT|Okay so i am so h...| 2015-08-19|\n",
            "|         US|   21646689|R1V6UU1EHW3Q12|B013H3RO00|      62032810|Geoffrey Beene Me...|         Apparel|          5|           57|         62|   N|                Y|Great hankerchief...|I sincerely adore...| 2015-08-22|\n",
            "|         US|   14885085|R230W87COFSTCL|B013FLBMOS|      34452015|Neon Nightlife Li...|         Apparel|          5|           21|         21|   N|                Y|AMAZING accessory...|This is an amazin...| 2015-08-26|\n",
            "|         US|   52607844|R156HBTMUSEM88|B013CIQ4II|     282819531|Hanes Women's Cot...|         Apparel|          5|           48|         49|   N|                Y|Great color and s...|When I first open...| 2015-08-31|\n",
            "|         US|   16016643|R2X1UHSW9KUBES|B013B5MS5A|     844184360|Sexy Couture Wome...|         Apparel|          5|           22|         22|   N|                Y|They are up there...|These jeans are a...| 2015-08-31|\n",
            "|         US|   48374199| RO32P11MHPMI3|B013AXN87U|     532055092|Miusol Women's Cu...|         Apparel|          5|           24|         24|   N|                Y|... is my second ...|This is my second...| 2015-08-18|\n",
            "|         US|    2704286|R1Y8ARYNAB7PC0|B0132KKSBK|      48905872|Waist Trainer, Az...|         Apparel|          5|           19|         20|   N|                N|          LOOOOOOOVE|Love love love!!!...| 2015-08-31|\n",
            "|         US|    3151543|R1QSB09EOREALQ|B013204F0U|     116670397|Cocoship Retro 50...|         Apparel|          4|           29|         32|   N|                Y|Quality Fabric, F...|This is a great b...| 2015-08-19|\n",
            "|         US|   37194231|R1BQ8BDCIV9ONZ|B0131K1MFM|     296184450|Bewild Brand® - M...|         Apparel|          5|           44|         50|   N|                Y|  Improves discourse|This hat speaks v...| 2015-08-25|\n",
            "|         US|    2203211|R18638HIUF6XNR|B0131D4ND2|     418011491|Genie Women's Jeg...|         Apparel|          3|           22|         23|   N|                N|do your research ...|there have been a...| 2015-08-04|\n",
            "|         US|   48759981|  R1EHNRX9BMLK|B0130LQN6K|     322914675|Underwraps Women'...|         Apparel|          5|           19|         20|   N|                Y|          Five Stars|LOVE LOVE LOVE th...| 2015-08-31|\n",
            "|         US|   18562738|R26L79OMEJLULL|B012ZPYUI0|     219518146|ReliBeauty Womens...|         Apparel|          5|           32|         36|   N|                Y|Great Suit/ Great...|I was skeptical, ...| 2015-08-14|\n",
            "|         US|   51101286| RQLV8G3M9ZOT2|B012ZI7I3Q|     766947587|Avidlove Sexy Lin...|         Apparel|          5|           22|         23|   N|                N|The straps are ad...|I ordered the mau...| 2015-08-30|\n",
            "+-----------+-----------+--------------+----------+--------------+--------------------+----------------+-----------+-------------+-----------+----+-----------------+--------------------+--------------------+-----------+\n",
            "only showing top 20 rows\n",
            "\n"
          ]
        }
      ]
    },
    {
      "cell_type": "code",
      "source": [
        "df_helpful_votes50[\"vine\"]"
      ],
      "metadata": {
        "colab": {
          "base_uri": "https://localhost:8080/"
        },
        "id": "D8fIrGGmUu7Q",
        "outputId": "e2ee72b8-4ecd-4479-dbab-71d50ff8167a"
      },
      "execution_count": 63,
      "outputs": [
        {
          "output_type": "execute_result",
          "data": {
            "text/plain": [
              "Column<'vine'>"
            ]
          },
          "metadata": {},
          "execution_count": 63
        }
      ]
    },
    {
      "cell_type": "code",
      "source": [
        "df_helpful_votes50[\"vine\"]=='Y'"
      ],
      "metadata": {
        "colab": {
          "base_uri": "https://localhost:8080/"
        },
        "id": "mN_mhI35VFwR",
        "outputId": "6959e71e-d7fc-4df3-90d8-9124e62c0008"
      },
      "execution_count": 65,
      "outputs": [
        {
          "output_type": "execute_result",
          "data": {
            "text/plain": [
              "Column<'(vine = Y)'>"
            ]
          },
          "metadata": {},
          "execution_count": 65
        }
      ]
    },
    {
      "cell_type": "code",
      "source": [
        "# DataFrame that retrieves all the rows where a review was written as part of the Vine program (paid), vine == 'Y'.\n",
        "df_vine_program_Y = df_helpful_votes50.filter(df_helpful_votes50[\"vine\"]=='Y')\n"
      ],
      "metadata": {
        "id": "piQ7oGJYTbDp"
      },
      "execution_count": 84,
      "outputs": []
    },
    {
      "cell_type": "code",
      "source": [
        "df_vine_program_Y.show()"
      ],
      "metadata": {
        "colab": {
          "base_uri": "https://localhost:8080/"
        },
        "id": "iKKqFEwwf75O",
        "outputId": "82b724c8-7469-4553-9912-1a16e4de5221"
      },
      "execution_count": 85,
      "outputs": [
        {
          "output_type": "stream",
          "name": "stdout",
          "text": [
            "+-----------+-----------+--------------+----------+--------------+--------------------+----------------+-----------+-------------+-----------+----+-----------------+--------------------+--------------------+-----------+\n",
            "|marketplace|customer_id|     review_id|product_id|product_parent|       product_title|product_category|star_rating|helpful_votes|total_votes|vine|verified_purchase|     review_headline|         review_body|review_date|\n",
            "+-----------+-----------+--------------+----------+--------------+--------------------+----------------+-----------+-------------+-----------+----+-----------------+--------------------+--------------------+-----------+\n",
            "|         US|   51744990| R6U9701C3BGO6|B00XL2X3U8|     139556466|Wrangler Authenti...|         Apparel|          3|          139|        147|   Y|                N|        Comfort-Lite|After some debate...| 2015-08-31|\n",
            "|         US|   35360512|R1XK3ALB45D7N4|B00XKYRLEQ|     243221870|Wrangler Authenti...|         Apparel|          5|           33|         34|   Y|                N|So good I’m getti...|I am very impress...| 2015-08-25|\n",
            "|         US|   38075274|R1IZCSTLX81D6C|B00XKYQUGG|     679564075|Wrangler Authenti...|         Apparel|          5|           31|         33|   Y|                N|Warm, rugged, hea...|I purchased men's...| 2015-08-29|\n",
            "|         US|   19105074|R2C8NC8EQLH4JF|B00XKYNDNO|      93963715|Wrangler Authenti...|         Apparel|          3|           45|         48|   Y|                N|For those who lik...|These cargo pants...| 2015-08-29|\n",
            "|         US|   44992591|R1JJ1YOJMOML1P|B00XKXWRZ0|      81389800|Wrangler Men's Au...|         Apparel|          5|           18|         21|   Y|                N|Great style, grea...|I have a husband ...| 2015-08-29|\n",
            "|         US|   18433169|R3TKG664L9MTXJ|B00XKXO4OW|     537903834|Wrangler Authenti...|         Apparel|          4|          164|        175|   Y|                N|      Price is Right|When I met my hus...| 2015-08-29|\n",
            "|         US|   21155796|R2E942L5EX73FP|B00XH994ZI|     734591409|Wrangler Men's Lo...|         Apparel|          5|           29|         33|   Y|                N|Look for the perf...|If you're looking...| 2015-08-31|\n",
            "|         US|   51302590|R3CGRT9HYB3LI7|B00XH7I3IE|     212550147|Wrangler Authenti...|         Apparel|          5|           20|         21|   Y|                N|Well made, Well D...|Wrangler does it ...| 2015-08-28|\n",
            "|         US|   52532594|R3HIFO4D3ZIBZ7|B00XH7I3IE|     212550147|Wrangler Authenti...|         Apparel|          5|           25|         26|   Y|                N|Thick, sturdy mat...|The shirt is made...| 2015-08-27|\n",
            "|         US|   52813641|R2VUXJT91MXOQJ|B00VTVAR2U|     834255329|Fruit of the Loom...|         Apparel|          3|           72|         79|   Y|                N|Average White T-S...|I often wear a wh...| 2015-07-04|\n",
            "|         US|   40649038|R1C8PGDXGYR30Z|B00VK22T24|     213313334|Lee Women's Petit...|         Apparel|          4|           29|         30|   Y|                N|Comfortable for s...|I have a narrow w...| 2015-06-19|\n",
            "|         US|   50671887| R8MS8X9EHHTPL|B00VJLX2WM|     628507195|LEE Women's Plus ...|         Apparel|          3|           18|         20|   Y|                N|       Pants Too Big|These seem to be ...| 2015-06-24|\n",
            "|         US|   21084288|R31GNOM0KSO811|B00VJLX2EU|     628507195|LEE Women's Plus ...|         Apparel|          5|           33|         35|   Y|                N|Now I need more c...|These are really ...| 2015-06-17|\n",
            "|         US|   30337663|R30QE1QK86LPYL|B00V853AEE|     330242316|LEE Women's Relax...|         Apparel|          5|          240|        248|   Y|                N|Basic, All Day Co...|[[VIDEOID:ec1492f...| 2015-06-26|\n",
            "|         US|   47040158|R22HZWFVEVORET|B00TKXDW62|     296607349|Hanes Women's Com...|         Apparel|          4|           47|         50|   Y|                N|Decent, will be g...|I'd ordered this ...| 2015-06-23|\n",
            "|         US|   23461990|R1FH9B0W7UFLK0|B00TKXDW62|     296607349|Hanes Women's Com...|         Apparel|          2|           40|         45|   Y|                N|Just another unsu...|Being a very bust...| 2015-06-11|\n",
            "|         US|   32616889|R3JA6LR9QD9TZE|B00PLKLPTO|     219769024|Bali Women's Comf...|         Apparel|          4|           18|         20|   Y|                N|Rethinking my choice|Bali has not been...| 2015-06-18|\n",
            "|         US|   51118641|R378OQDA4JN3IG|B00PLKBQW0|     219769024|Bali Women's Comf...|         Apparel|          4|           42|         44|   Y|                N|A bargain bra tha...|I’m pretty picky ...| 2015-06-07|\n",
            "|         US|   51968312|R2U5MIYOYUTTUA|B00PLKBQH0|     219769024|Bali Women's Comf...|         Apparel|          3|           31|         34|   Y|                N|Great bra, would ...|I have been weari...| 2015-06-13|\n",
            "|         US|   43486893|R337AR463Y2FPD|B00L40XSJA|      41030786|Dickies Women's S...|         Apparel|          3|           22|         22|   Y|                N|              shrunk|I wear size 14 pa...| 2015-04-09|\n",
            "+-----------+-----------+--------------+----------+--------------+--------------------+----------------+-----------+-------------+-----------+----+-----------------+--------------------+--------------------+-----------+\n",
            "only showing top 20 rows\n",
            "\n"
          ]
        }
      ]
    },
    {
      "cell_type": "code",
      "source": [
        "# DataFrame that retrieves all the rows where a review was written as part of the Vine program (unpaid), vine == 'N'.\n",
        "df_vine_program_N = df_helpful_votes50.filter(df_helpful_votes50[\"vine\"]=='N')"
      ],
      "metadata": {
        "id": "yQ3otn_QVikJ"
      },
      "execution_count": 86,
      "outputs": []
    },
    {
      "cell_type": "code",
      "source": [
        "df_vine_program_N.show()"
      ],
      "metadata": {
        "colab": {
          "base_uri": "https://localhost:8080/"
        },
        "id": "1CvIMlKegFxE",
        "outputId": "2c361696-4b12-48da-b0fc-a2d2076aa0ec"
      },
      "execution_count": 87,
      "outputs": [
        {
          "output_type": "stream",
          "name": "stdout",
          "text": [
            "+-----------+-----------+--------------+----------+--------------+--------------------+----------------+-----------+-------------+-----------+----+-----------------+--------------------+--------------------+-----------+\n",
            "|marketplace|customer_id|     review_id|product_id|product_parent|       product_title|product_category|star_rating|helpful_votes|total_votes|vine|verified_purchase|     review_headline|         review_body|review_date|\n",
            "+-----------+-----------+--------------+----------+--------------+--------------------+----------------+-----------+-------------+-----------+----+-----------------+--------------------+--------------------+-----------+\n",
            "|         US|   17162238|R35PT06NWP7LDP|B0140UFQKE|     555753462|Women Padded Spor...|         Apparel|          5|           30|         32|   N|                N|This is an extrem...|This is an extrem...| 2015-08-28|\n",
            "|         US|     453792| RQW4AFOG9MR4Z|B013QTWRAC|     254612789|UONBOX Celebrity ...|         Apparel|          5|           51|         52|   N|                N|          Five Stars|Wonderful dress!!...| 2015-08-14|\n",
            "|         US|    2089228|R2SMUEBMGLAJQK|B013P4QQVO|     791992572|Vikoros Waist Cin...|         Apparel|          5|           29|         36|   N|                Y|            Love it!|I got this a size...| 2015-08-30|\n",
            "|         US|     114396|R1XVIZZALU5P6J|B013P29CBM|     539979945|UONBOX Women's Ra...|         Apparel|          5|          148|        150|   N|                Y|Colors look like ...|Very heavy soft, ...| 2015-08-17|\n",
            "|         US|   51748675|R11UFMG8M2488I|B013OUQEUM|     640221350|Meaneor Women's O...|         Apparel|          4|           23|         26|   N|                N|Very beautiful fa...|This is a very pr...| 2015-08-29|\n",
            "|         US|   50038974|R2OSHKSPXU68W5|B013KVV1NA|     234785624|TOP LEGGING TL Wo...|         Apparel|          5|          136|        147|   N|                N|Cute hoodie made ...|I wear lots of sw...| 2015-08-30|\n",
            "|         US|   52045345|R3M02FSD3BLUPU|B013JM0NKM|     601070643|Bepei Women's Lon...|         Apparel|          5|           19|         21|   N|                N|Love this unique ...|[[VIDEOID:a4649ba...| 2015-08-20|\n",
            "|         US|   44724303|R1P0LEEJHH09L3|B013HLP2WO|     556490207|Yonala Women's Vi...|         Apparel|          5|           32|         32|   N|                Y| OMG OMG ITS PERFECT|Okay so i am so h...| 2015-08-19|\n",
            "|         US|   21646689|R1V6UU1EHW3Q12|B013H3RO00|      62032810|Geoffrey Beene Me...|         Apparel|          5|           57|         62|   N|                Y|Great hankerchief...|I sincerely adore...| 2015-08-22|\n",
            "|         US|   14885085|R230W87COFSTCL|B013FLBMOS|      34452015|Neon Nightlife Li...|         Apparel|          5|           21|         21|   N|                Y|AMAZING accessory...|This is an amazin...| 2015-08-26|\n",
            "|         US|   52607844|R156HBTMUSEM88|B013CIQ4II|     282819531|Hanes Women's Cot...|         Apparel|          5|           48|         49|   N|                Y|Great color and s...|When I first open...| 2015-08-31|\n",
            "|         US|   16016643|R2X1UHSW9KUBES|B013B5MS5A|     844184360|Sexy Couture Wome...|         Apparel|          5|           22|         22|   N|                Y|They are up there...|These jeans are a...| 2015-08-31|\n",
            "|         US|   48374199| RO32P11MHPMI3|B013AXN87U|     532055092|Miusol Women's Cu...|         Apparel|          5|           24|         24|   N|                Y|... is my second ...|This is my second...| 2015-08-18|\n",
            "|         US|    2704286|R1Y8ARYNAB7PC0|B0132KKSBK|      48905872|Waist Trainer, Az...|         Apparel|          5|           19|         20|   N|                N|          LOOOOOOOVE|Love love love!!!...| 2015-08-31|\n",
            "|         US|    3151543|R1QSB09EOREALQ|B013204F0U|     116670397|Cocoship Retro 50...|         Apparel|          4|           29|         32|   N|                Y|Quality Fabric, F...|This is a great b...| 2015-08-19|\n",
            "|         US|   37194231|R1BQ8BDCIV9ONZ|B0131K1MFM|     296184450|Bewild Brand® - M...|         Apparel|          5|           44|         50|   N|                Y|  Improves discourse|This hat speaks v...| 2015-08-25|\n",
            "|         US|    2203211|R18638HIUF6XNR|B0131D4ND2|     418011491|Genie Women's Jeg...|         Apparel|          3|           22|         23|   N|                N|do your research ...|there have been a...| 2015-08-04|\n",
            "|         US|   48759981|  R1EHNRX9BMLK|B0130LQN6K|     322914675|Underwraps Women'...|         Apparel|          5|           19|         20|   N|                Y|          Five Stars|LOVE LOVE LOVE th...| 2015-08-31|\n",
            "|         US|   18562738|R26L79OMEJLULL|B012ZPYUI0|     219518146|ReliBeauty Womens...|         Apparel|          5|           32|         36|   N|                Y|Great Suit/ Great...|I was skeptical, ...| 2015-08-14|\n",
            "|         US|   51101286| RQLV8G3M9ZOT2|B012ZI7I3Q|     766947587|Avidlove Sexy Lin...|         Apparel|          5|           22|         23|   N|                N|The straps are ad...|I ordered the mau...| 2015-08-30|\n",
            "+-----------+-----------+--------------+----------+--------------+--------------------+----------------+-----------+-------------+-----------+----+-----------------+--------------------+--------------------+-----------+\n",
            "only showing top 20 rows\n",
            "\n"
          ]
        }
      ]
    },
    {
      "cell_type": "code",
      "source": [
        "from pyspark.sql.functions import count\n",
        "df.select(count(\"star_rating\")).show()\n"
      ],
      "metadata": {
        "colab": {
          "base_uri": "https://localhost:8080/"
        },
        "id": "tKyWCOp4ZNtH",
        "outputId": "eb45c79d-ed2a-4994-cdda-2ffcda2da197"
      },
      "execution_count": 72,
      "outputs": [
        {
          "output_type": "stream",
          "name": "stdout",
          "text": [
            "+------------------+\n",
            "|count(star_rating)|\n",
            "+------------------+\n",
            "|           5906322|\n",
            "+------------------+\n",
            "\n"
          ]
        }
      ]
    },
    {
      "cell_type": "code",
      "source": [
        "from pyspark.sql.functions import count\n",
        "rating_five = df.select(\"star_rating\").where(df.star_rating == 5 ).count()\n",
        "rating_five\n"
      ],
      "metadata": {
        "colab": {
          "base_uri": "https://localhost:8080/"
        },
        "id": "n82pDmTFaBd_",
        "outputId": "c38fe5b3-733d-4bd6-c2f1-37951a4bd8e8"
      },
      "execution_count": 91,
      "outputs": [
        {
          "output_type": "execute_result",
          "data": {
            "text/plain": [
              "3320557"
            ]
          },
          "metadata": {},
          "execution_count": 91
        }
      ]
    },
    {
      "cell_type": "code",
      "source": [
        "from pyspark.sql.functions import count\n",
        "paid_rating= df_vine_program_Y.select(\"star_rating\").count()\n",
        "paid_rating"
      ],
      "metadata": {
        "colab": {
          "base_uri": "https://localhost:8080/"
        },
        "id": "4q7_w4uVIzr7",
        "outputId": "60a24ab3-3dfc-4b1b-ac7d-a230467f4a9d"
      },
      "execution_count": 128,
      "outputs": [
        {
          "output_type": "execute_result",
          "data": {
            "text/plain": [
              "33"
            ]
          },
          "metadata": {},
          "execution_count": 128
        }
      ]
    },
    {
      "cell_type": "code",
      "source": [
        "from pyspark.sql.functions import count\n",
        "unpaid_rating= df_vine_program_N.select(\"star_rating\").count()\n",
        "unpaid_rating"
      ],
      "metadata": {
        "colab": {
          "base_uri": "https://localhost:8080/"
        },
        "id": "fBr4BsWIJETI",
        "outputId": "e597e8e6-cb86-483b-d6e7-b7e56414c688"
      },
      "execution_count": 129,
      "outputs": [
        {
          "output_type": "execute_result",
          "data": {
            "text/plain": [
              "45388"
            ]
          },
          "metadata": {},
          "execution_count": 129
        }
      ]
    },
    {
      "cell_type": "code",
      "source": [
        "from pyspark.sql.functions import count\n",
        "paid_rating_five = df_vine_program_Y.select(\"star_rating\").where(df_vine_program_Y.star_rating == 5 ).count()\n",
        "paid_rating_five\n",
        "\n"
      ],
      "metadata": {
        "colab": {
          "base_uri": "https://localhost:8080/"
        },
        "id": "Wf3IzLuLeHcZ",
        "outputId": "f973b266-5398-4263-8fcd-3351c694fc48"
      },
      "execution_count": 92,
      "outputs": [
        {
          "output_type": "execute_result",
          "data": {
            "text/plain": [
              "15"
            ]
          },
          "metadata": {},
          "execution_count": 92
        }
      ]
    },
    {
      "cell_type": "code",
      "source": [
        "from pyspark.sql.functions import count\n",
        "unpaid_rating_five = df_vine_program_N.select(\"star_rating\").where(df_vine_program_N.star_rating == 5 ).count()\n",
        "unpaid_rating_five "
      ],
      "metadata": {
        "colab": {
          "base_uri": "https://localhost:8080/"
        },
        "id": "7IYVz29eevgO",
        "outputId": "7b712f04-9822-4c5b-9945-f8359e7124db"
      },
      "execution_count": 93,
      "outputs": [
        {
          "output_type": "execute_result",
          "data": {
            "text/plain": [
              "23733"
            ]
          },
          "metadata": {},
          "execution_count": 93
        }
      ]
    },
    {
      "cell_type": "code",
      "source": [
        "percentage_paid_rating_five = (paid_rating_five / rating_five) * 100\n",
        "print(\"percentage_paid_rating_five is :%f\" % percentage_paid_rating_five + \"%\")"
      ],
      "metadata": {
        "colab": {
          "base_uri": "https://localhost:8080/"
        },
        "id": "s861lX6Hw7Nh",
        "outputId": "adf061f4-d2d6-42a9-b491-be36fda32f8c"
      },
      "execution_count": 132,
      "outputs": [
        {
          "output_type": "stream",
          "name": "stdout",
          "text": [
            "percentage_paid_rating_five is :0.000452%\n"
          ]
        }
      ]
    },
    {
      "cell_type": "code",
      "source": [
        "percentage_unpaid_rating_five = (unpaid_rating_five / rating_five) * 100\n",
        "percentage_unpaid_rating_five\n",
        "print(\"percentage_unpaid_rating_five is :%f\" % percentage_unpaid_rating_five + \"%\")"
      ],
      "metadata": {
        "colab": {
          "base_uri": "https://localhost:8080/"
        },
        "id": "gU5sycd01qk1",
        "outputId": "a1aab953-0702-4441-90e6-63f64257d7ab"
      },
      "execution_count": 133,
      "outputs": [
        {
          "output_type": "stream",
          "name": "stdout",
          "text": [
            "percentage_unpaid_rating_five is :0.714729%\n"
          ]
        }
      ]
    }
  ]
}